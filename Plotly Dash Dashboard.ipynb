{
    "cells": [
        {
            "cell_type": "markdown",
            "metadata": {
                "collapsed": true
            },
            "source": "# Dashboard Code"
        },
        {
            "cell_type": "code",
            "execution_count": null,
            "metadata": {},
            "outputs": [],
            "source": "# Import required libraries\nimport pandas as pd\nimport dash\nimport dash_html_components as html\nimport dash_core_components as dcc\nfrom dash.dependencies import Input, Output\nimport plotly.express as px\n\n# Read the airline data into pandas dataframe\nspacex_df = pd.read_csv(\"spacex_launch_dash.csv\")\nmax_payload = spacex_df['Payload Mass (kg)'].max()\nmin_payload = spacex_df['Payload Mass (kg)'].min()\n\n# Create a dash application\napp = dash.Dash(__name__)\n\n# Create an app layout\napp.layout = html.Div(children=[html.H1('SpaceX Launch Records Dashboard',\n                                        style={'textAlign': 'center', 'color': '#503D36',\n                                               'font-size': 40}),\n                                # TASK 1: Add a dropdown list to enable Launch Site selection\n                                # The default select value is for ALL sites\n                                # dcc.Dropdown(id='site-dropdown',...)\n                                dcc.Dropdown(\n                                    id='site-dropdown',\n                                    options=[\n                                        {'label': 'All Sites', 'value': 'ALL'},\n                                        {'label': 'CCAFS LC-40', 'value': 'CCAFS LC-40'},\n                                        {'label': 'VAFB SLC-4E', 'value': 'VAFB SLC-4E'},\n                                        {'label': 'KSC LC-39A', 'value': 'KSC LC-39A'},\n                                        {'label': 'CCAFS SLC-40', 'value': 'CCAFS SLC-40'}\n                                    ],\n                                    value='ALL',\n                                    placeholder='Select a Launch Site Here',\n                                    searchable=True),\n                                html.Br(),\n\n                                # TASK 2: Add a pie chart to show the total successful launches count for all sites\n                                # If a specific launch site was selected, show the Success vs. Failed counts for the site\n                                html.Div(dcc.Graph(id='success-pie-chart')),\n                                html.Br(),\n                                html.P(\"Payload range (Kg):\"),\n                                # TASK 3: Add a slider to select payload range\n                                #dcc.RangeSlider(id='payload-slider',...)\n                                dcc.RangeSlider(\n                                    id='payload-slider',\n                                    min=0,\n                                    max=10000,\n                                    step=None,\n                                    marks={\n                                        0: '0',\n                                        1000: '1000',\n                                        2000: '2000',\n                                        3000: '3000',\n                                        4000: '4000',\n                                        5000: '5000',\n                                        6000: '6000',\n                                        7000: '7000',\n                                        8000: '8000',\n                                        9000: '9000',\n                                        10000: '10000'\n                                    },\n                                    value=[min_payload, max_payload]),\n\n                                # TASK 4: Add a scatter chart to show the correlation between payload and launch success\n                                html.Div(dcc.Graph(id='success-payload-scatter-chart')),\n                                ])\n\n# TASK 2:\n# Add a callback function for `site-dropdown` as input, `success-pie-chart` as output\n@app.callback(\n    Output(component_id='success-pie-chart', component_property='figure'),\n    Input(component_id='site-dropdown', component_property='value'))\n\ndef get_pie_chart(selected_site):\n    filtered_pie = spacex_df[spacex_df['Launch Site']==selected_site]\n    if selected_site == 'ALL':\n        fig_pie = px.pie(\n            spacex_df,\n            values='class',\n            names='Launch Site',\n            title='Total Successful Launches by Site'\n        )\n        return fig_pie\n    else:\n        pie_df = filtered_pie.groupby(['Launch Site', 'class']).size().reset_index(name='class count')\n        fig_pie = px.pie(\n            pie_df,\n            values='class count',\n            names='class',\n            title=f'Total Successful Launches for Site {selected_site}'\n        )\n        return fig_pie\n\n# TASK 4:\n# Add a callback function for `site-dropdown` and `payload-slider` as inputs, `success-payload-scatter-chart` as output\n@app.callback(\n    Output(component_id='success-payload-scatter-chart', component_property='figure'),\n    [Input(component_id='site-dropdown', component_property='value'),\n    Input(component_id='payload-slider', component_property='value')])\n\ndef get_scatter_chart(site, payload):\n    low,high = (payload[0], payload[1])\n    filtered_scatter = spacex_df[spacex_df['Payload Mass (kg)'].between(low,high)]\n    if site == 'ALL':\n        fig_scatter = px.scatter(\n            filtered_scatter,\n            x='Payload Mass (kg)',\n            y='class',\n            color='Booster Version Category',\n            title='Correlation between Payload and Success for all Sites'\n        )\n        return fig_scatter\n    else:\n        filtered_scatter_site = filtered_scatter[filtered_scatter['Launch Site']==site]\n        fig_scatter = px.scatter(\n            filtered_scatter_site,\n            x='Payload Mass (kg)',\n            y='class',\n            color='Booster Version Category',\n            title=f'Correlation between Payload and Success for Site {site}'\n        )\n        return fig_scatter\n\n# Run the app\nif __name__ == '__main__':\n    app.run_server()"
        }
    ],
    "metadata": {
        "kernelspec": {
            "display_name": "Python 3.7",
            "language": "python",
            "name": "python3"
        },
        "language_info": {
            "codemirror_mode": {
                "name": "ipython",
                "version": 3
            },
            "file_extension": ".py",
            "mimetype": "text/x-python",
            "name": "python",
            "nbconvert_exporter": "python",
            "pygments_lexer": "ipython3",
            "version": "3.7.11"
        }
    },
    "nbformat": 4,
    "nbformat_minor": 1
}